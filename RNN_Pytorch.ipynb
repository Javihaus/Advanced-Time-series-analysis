{
 "cells": [
  {
   "cell_type": "code",
   "execution_count": null,
   "metadata": {},
   "outputs": [],
   "source": [
    "# load the libraries\n",
    "import numpy as np\n",
    "import pandas as pd\n",
    "import matplotlib.pyplot as plt\n",
    "import torch\n",
    "import torch.nn as nn\n",
    "import plotly.express as px\n",
    "import plotly.graph_objects as go\n",
    "import gc"
   ]
  },
  {
   "cell_type": "code",
   "execution_count": null,
   "metadata": {},
   "outputs": [],
   "source": [
    "# read data\n",
    "data_all = pd.read_csv('gimnasio.csv')"
   ]
  },
  {
   "cell_type": "code",
   "execution_count": null,
   "metadata": {},
   "outputs": [],
   "source": [
    "data_all.head()"
   ]
  },
  {
   "cell_type": "code",
   "execution_count": null,
   "metadata": {},
   "outputs": [],
   "source": [
    "target = 'Intensity_gimnasio'"
   ]
  },
  {
   "cell_type": "code",
   "execution_count": null,
   "metadata": {},
   "outputs": [],
   "source": [
    "data=data_all[{target}].dropna()"
   ]
  },
  {
   "cell_type": "code",
   "execution_count": null,
   "metadata": {},
   "outputs": [],
   "source": [
    "# plot the data\n",
    "px.scatter(x = data.index, y=data[target],\n",
    "       labels={'x':'Number of time steps (days)',\n",
    "               'y':f'{target}'})"
   ]
  },
  {
   "cell_type": "code",
   "execution_count": null,
   "metadata": {},
   "outputs": [],
   "source": [
    "# scale the data\n",
    "from sklearn.preprocessing import MinMaxScaler\n",
    "scale = MinMaxScaler(feature_range=(0,1))\n",
    "data = scale.fit_transform(data)"
   ]
  },
  {
   "cell_type": "code",
   "execution_count": null,
   "metadata": {},
   "outputs": [],
   "source": [
    "# divide the data into number of steps \n",
    "def create_data(data, seq_len):\n",
    "    N = len(data)\n",
    "    X = []\n",
    "    Y = []\n",
    "    for i in range(N-seq_len-1):\n",
    "        x = data[i:i+seq_len]\n",
    "        X.append(x)\n",
    "        y = data[i+seq_len]\n",
    "        Y.append(y)        \n",
    "    return X,Y"
   ]
  },
  {
   "cell_type": "code",
   "execution_count": null,
   "metadata": {},
   "outputs": [],
   "source": [
    "x, y = create_data(data,10)\n",
    "# convert the x and y values into arrays\n",
    "x, y = np.asarray(x), np.asarray(y)\n",
    "x.reshape(-1,10).shape"
   ]
  },
  {
   "cell_type": "code",
   "execution_count": null,
   "metadata": {},
   "outputs": [],
   "source": [
    "# divide the data into train and test\n",
    "def split_data(x,y, ratio):\n",
    "    assert len(x)==len(y)\n",
    "    N = len(x)\n",
    "    train_x, test_x  = x[:int(N*ratio)], x[int(N*ratio):]\n",
    "    train_y, test_y  = y[:int(N*ratio)], y[int(N*ratio):]\n",
    "    return train_x,train_y, test_x, test_y"
   ]
  },
  {
   "cell_type": "markdown",
   "metadata": {},
   "source": [
    "### Recurrent Neural Network - RNN"
   ]
  },
  {
   "cell_type": "code",
   "execution_count": null,
   "metadata": {},
   "outputs": [],
   "source": [
    "# Implement the RNN \n",
    "class Simple_RNN(nn.Module):\n",
    "    def __init__(self, in_dim, hid_dim, out_dim, num_layers):\n",
    "        super().__init__()\n",
    "        \n",
    "        # define the dimensions\n",
    "        self.in_dim = in_dim\n",
    "        self.hid_dim = in_dim\n",
    "        self.out_dim = out_dim\n",
    "        self.layer = num_layers\n",
    "        \n",
    "        # define the rnn layer\n",
    "        self.rnn = nn.RNN(self.in_dim, self.hid_dim, self.layer, nonlinearity='tanh', batch_first=True)\n",
    "        \n",
    "        # define fully connected layer for output\n",
    "        self.fc = nn.Linear(self.hid_dim, self.out_dim)\n",
    "        \n",
    "    def forward(self,x):\n",
    "        \n",
    "        # initialize the hidden layer\n",
    "        h0 = torch.zeros(self.layer, x.size(0),self.hid_dim)\n",
    "        \n",
    "        #initialize the rnn\n",
    "        out, _ = self.rnn(x,h0)\n",
    "        \n",
    "        out = self.fc(out[:,-1,:])\n",
    "        return out"
   ]
  },
  {
   "cell_type": "code",
   "execution_count": null,
   "metadata": {},
   "outputs": [],
   "source": [
    "# convert the data from numpy to tensor\n",
    "train_x, train_y, test_x, test_y = split_data(x, y, 0.7)\n",
    "train_x = torch.from_numpy(train_x.astype(np.float32))\n",
    "train_y = torch.from_numpy(train_y.astype(np.float32))\n",
    "test_x = torch.from_numpy(test_x.astype(np.float32))\n",
    "test_y = torch.from_numpy(test_y.astype(np.float32))"
   ]
  },
  {
   "cell_type": "code",
   "execution_count": null,
   "metadata": {},
   "outputs": [],
   "source": [
    "x.shape"
   ]
  },
  {
   "cell_type": "code",
   "execution_count": null,
   "metadata": {},
   "outputs": [],
   "source": [
    "# Parameters of RNN neural network\n",
    "in_size = x.shape[-1]\n",
    "out_size = in_size\n",
    "hid_size = 3\n",
    "num_layers = 1"
   ]
  },
  {
   "cell_type": "code",
   "execution_count": null,
   "metadata": {},
   "outputs": [],
   "source": [
    "# _______________MODEL___________________________________\n",
    "model = Simple_RNN(in_size,\n",
    "                   hid_size,\n",
    "                   out_size, \n",
    "                   num_layers)\n",
    "optimizer = torch.optim.Adam(model.parameters(), lr=0.01)\n",
    "loss_fun = nn.MSELoss()\n",
    "epochs = 500"
   ]
  },
  {
   "cell_type": "code",
   "execution_count": null,
   "metadata": {},
   "outputs": [],
   "source": [
    "def train_model(model,\n",
    "               criterion,\n",
    "               optimizer,\n",
    "               x_train,\n",
    "               x_test,\n",
    "               y_train,\n",
    "               y_test,\n",
    "               epochs=epochs):   \n",
    "    train_loss = np.zeros(epochs)\n",
    "    test_loss = np.zeros(epochs)    \n",
    "    for epoch in range(epochs):        \n",
    "        optimizer.zero_grad() # put default model grads to zero\n",
    "        \n",
    "        # predict the output\n",
    "        pred = model(x_train)\n",
    "        \n",
    "        # calculate the loss \n",
    "        error = criterion(pred,y_train)\n",
    "        \n",
    "        # backpropagate the error\n",
    "        error.backward()\n",
    "        \n",
    "        # update the model parameters\n",
    "        optimizer.step()\n",
    "        \n",
    "        # save the losses \n",
    "        train_loss[epoch] = error.item()\n",
    "        \n",
    "        # test loss \n",
    "        test_pred = model(x_test)\n",
    "        test_error = criterion(y_test,test_pred)\n",
    "        test_loss[epoch] = test_error.item()\n",
    "        \n",
    "        if (epoch+1) % 5 ==0:\n",
    "            print('Epoch :{}    Train Loss :{}    Test Loss :{}'.format((epoch+1)/epochs, error.item(), test_error.item()))\n",
    "            \n",
    "    return train_loss, test_loss"
   ]
  },
  {
   "cell_type": "code",
   "execution_count": null,
   "metadata": {},
   "outputs": [],
   "source": [
    "train_loss, test_loss = train_model(model,\n",
    "               loss_fun,\n",
    "               optimizer,\n",
    "               train_x,\n",
    "               test_x,\n",
    "               train_y,\n",
    "               test_y,\n",
    "               epochs=500)"
   ]
  },
  {
   "cell_type": "code",
   "execution_count": null,
   "metadata": {},
   "outputs": [],
   "source": [
    "import plotly.graph_objects as go\n",
    "trace11 = go.Scatter(\n",
    "    x = np.arange(0, epochs,1),\n",
    "    y = train_loss,\n",
    "    mode = 'lines',\n",
    "    name = 'Train Loss'\n",
    ")\n",
    "trace21 = go.Scatter(\n",
    "    x = np.arange(0, epochs,1),\n",
    "    y = test_loss,\n",
    "    mode = 'lines',\n",
    "    name = 'Test Loss'\n",
    ")\n",
    "\n",
    "layout = go.Layout(\n",
    "    title = f\"RNN performace\",\n",
    "    xaxis = {'title' : 'Epochs'},\n",
    "    yaxis = {'title' : 'Loss'}\n",
    ")\n",
    "fig = go.Figure(data=[trace11, trace21], layout=layout)\n",
    "fig.show()"
   ]
  },
  {
   "cell_type": "code",
   "execution_count": null,
   "metadata": {},
   "outputs": [],
   "source": [
    "# testing the prediction quality if the trained model\n",
    "\n",
    "trace31 = go.Scatter(\n",
    "    y = np.vstack((train_y.detach().numpy(),test_y.detach().numpy())).reshape(-1),\n",
    "    x = np.arange(0, len(y), 1),\n",
    "    mode = 'lines',\n",
    "    name = 'Target'\n",
    ")\n",
    "trace41 = go.Scatter(\n",
    "    y = np.vstack((train_y.detach().numpy(),model(test_x).detach().numpy())).reshape(-1),\n",
    "    x = np.arange(0, len(y), 1),\n",
    "    mode = 'lines',\n",
    "    name = 'Prediction'\n",
    ")\n",
    "\n",
    "layout = go.Layout(\n",
    "    title = f\"Evolution of {target}\",\n",
    "    xaxis = {'title' : 'Time delta in days'},\n",
    "    yaxis = {'title' : f'{target}'}\n",
    ")\n",
    "fig = go.Figure(data=[trace31, trace41], layout=layout)\n",
    "fig.show()"
   ]
  },
  {
   "cell_type": "markdown",
   "metadata": {},
   "source": [
    "### LSTM"
   ]
  },
  {
   "cell_type": "code",
   "execution_count": null,
   "metadata": {},
   "outputs": [],
   "source": [
    "# Implement LSTM\n",
    "class LSTM(nn.Module):\n",
    "    def __init__(self,in_dim, hid_dim, out_dim, num_layers):\n",
    "        super().__init__()\n",
    "        self.in_dim = in_dim\n",
    "        self.hid_dim = hid_dim\n",
    "        self.out_dim = out_dim\n",
    "        self.layer = num_layers       \n",
    "        self.lstm = nn.LSTM(self.in_dim, self.hid_dim, self.layer, batch_first=True)        \n",
    "        self.fc = nn.Linear(self.hid_dim, self.out_dim)\n",
    "        \n",
    "    def forward(self,x):        \n",
    "        # initialize the hidden state\n",
    "        h0 = torch.zeros(self.layer, x.size(0), self.hid_dim)\n",
    "        c0 = torch.zeros(self.layer, x.size(0), self.hid_dim)\n",
    "        \n",
    "        # forward propagate\n",
    "        out, (h_,c_) = self.lstm(x,(h0,c0))\n",
    "        \n",
    "        out = self.fc(out[:,-1,:])\n",
    "        return out"
   ]
  },
  {
   "cell_type": "code",
   "execution_count": null,
   "metadata": {},
   "outputs": [],
   "source": [
    "x, y = create_data(data,10)\n",
    "# convert the x and y values into arrays\n",
    "x, y = np.asarray(x), np.asarray(y)\n",
    "x.reshape(-1,10).shape"
   ]
  },
  {
   "cell_type": "code",
   "execution_count": null,
   "metadata": {},
   "outputs": [],
   "source": [
    "# Define LSTM RNN neural network\n",
    "in_size = x.shape[-1]\n",
    "out_size = in_size\n",
    "hid_size = 5\n",
    "num_layers = 1\n",
    "lstm = LSTM(in_size,hid_size,out_size, num_layers)\n",
    "optimizer = torch.optim.Adam(lstm.parameters(), lr=0.01)\n",
    "loss_fun = nn.MSELoss()"
   ]
  },
  {
   "cell_type": "code",
   "execution_count": null,
   "metadata": {},
   "outputs": [],
   "source": [
    "# convert the data from numpy to tensor\n",
    "train_x1, train_y1, test_x1, test_y1 = split_data(x, y, 0.7)\n",
    "train_x1 = torch.from_numpy(train_x1.astype(np.float32))\n",
    "train_y1 = torch.from_numpy(train_y1.astype(np.float32))\n",
    "test_x1 = torch.from_numpy(test_x1.astype(np.float32))\n",
    "test_y1 = torch.from_numpy(test_y1.astype(np.float32))"
   ]
  },
  {
   "cell_type": "code",
   "execution_count": null,
   "metadata": {},
   "outputs": [],
   "source": [
    "x.shape"
   ]
  },
  {
   "cell_type": "code",
   "execution_count": null,
   "metadata": {},
   "outputs": [],
   "source": [
    "epochs1 = 500\n",
    "train_loss1, test_loss1 = train_model(lstm,\n",
    "               loss_fun,\n",
    "               optimizer,\n",
    "               train_x1,\n",
    "               test_x1,\n",
    "               train_y1,\n",
    "               test_y1,\n",
    "               epochs=epochs1)"
   ]
  },
  {
   "cell_type": "code",
   "execution_count": null,
   "metadata": {},
   "outputs": [],
   "source": [
    "import plotly.graph_objects as go\n",
    "trace12 = go.Scatter(\n",
    "    x = np.arange(0, epochs1,1),\n",
    "    y = train_loss1,\n",
    "    mode = 'lines',\n",
    "    name = 'Train Loss'\n",
    ")\n",
    "trace22 = go.Scatter(\n",
    "    x = np.arange(0, epochs1,1),\n",
    "    y = test_loss1,\n",
    "    mode = 'lines',\n",
    "    name = 'Test Loss'\n",
    ")\n",
    "\n",
    "layout = go.Layout(\n",
    "    title = f\"RNN performace\",\n",
    "    xaxis = {'title' : 'Epochs'},\n",
    "    yaxis = {'title' : 'Loss'}\n",
    ")\n",
    "fig = go.Figure(data=[trace12, trace22], layout=layout)\n",
    "fig.show()"
   ]
  },
  {
   "cell_type": "code",
   "execution_count": null,
   "metadata": {},
   "outputs": [],
   "source": [
    "# testing the prediction quality if the trained model\n",
    "\n",
    "trace32 = go.Scatter(\n",
    "    y = np.vstack((train_y1.detach().numpy(),test_y1.detach().numpy())).reshape(-1),\n",
    "    x = np.arange(0, len(y), 1),\n",
    "    mode = 'lines',\n",
    "    name = 'Target'\n",
    ")\n",
    "trace42 = go.Scatter(\n",
    "    y = np.vstack((train_y1.detach().numpy(),lstm(test_x1).detach().numpy())).reshape(-1),\n",
    "    x = np.arange(0, len(y), 1),\n",
    "    mode = 'lines',\n",
    "    name = 'Prediction'\n",
    ")\n",
    "\n",
    "layout = go.Layout(\n",
    "    title = f\"Evolution of feature '{target}' with time\",\n",
    "    xaxis = {'title' : 'Time delta in days'},\n",
    "    yaxis = {'title' : f'{target}'}\n",
    ")\n",
    "fig = go.Figure(data=[trace32, trace42], layout=layout)\n",
    "fig.show()"
   ]
  },
  {
   "cell_type": "markdown",
   "metadata": {},
   "source": [
    "### Multi-layer gated recurrent unit RNN -  GRU"
   ]
  },
  {
   "cell_type": "code",
   "execution_count": null,
   "metadata": {},
   "outputs": [],
   "source": [
    "# implement GRU\n",
    "class GRU(nn.Module):\n",
    "    def __init__(self,in_dim, hid_dim, out_dim, num_layer):\n",
    "        super().__init__()\n",
    "        \n",
    "        self.in_dim = in_dim\n",
    "        self.hid_dim = hid_dim\n",
    "        self.out_dim = out_dim\n",
    "        self.layer = num_layers\n",
    "        \n",
    "        self.gru = nn.GRU(self.in_dim, self.hid_dim, self.layer, batch_first=True)\n",
    "        self.fc = nn.Linear(self.hid_dim, self.out_dim)\n",
    "        \n",
    "    def forward(self,x):\n",
    "        \n",
    "        # initalize the hidden layers\n",
    "        h0 = torch.zeros(self.layer, x.size(0), self.hid_dim)\n",
    "        \n",
    "        out, _ = self.gru(x,h0)\n",
    "        out = self.fc(out[:,-1,:])\n",
    "        return out"
   ]
  },
  {
   "cell_type": "code",
   "execution_count": null,
   "metadata": {},
   "outputs": [],
   "source": [
    "# convert the data from numpy to tensor\n",
    "train_x2, train_y2, test_x2, test_y2 = split_data(x, y, 0.7)\n",
    "train_x2 = torch.from_numpy(train_x2.astype(np.float32))\n",
    "train_y2 = torch.from_numpy(train_y2.astype(np.float32))\n",
    "test_x2 = torch.from_numpy(test_x2.astype(np.float32))\n",
    "test_y2 = torch.from_numpy(test_y2.astype(np.float32))"
   ]
  },
  {
   "cell_type": "code",
   "execution_count": null,
   "metadata": {},
   "outputs": [],
   "source": [
    "# definelGRU neurak network\n",
    "in_size = x.shape[-1]\n",
    "out_size = in_size\n",
    "hid_size = 5\n",
    "num_layers = 1"
   ]
  },
  {
   "cell_type": "code",
   "execution_count": null,
   "metadata": {},
   "outputs": [],
   "source": [
    "#__________ GRU Model__________________________________\n",
    "gru = GRU(in_size,hid_size,out_size, num_layers)\n",
    "optimizer = torch.optim.Adam(gru.parameters(), lr=0.01)\n",
    "loss_fun = nn.MSELoss()"
   ]
  },
  {
   "cell_type": "code",
   "execution_count": null,
   "metadata": {},
   "outputs": [],
   "source": [
    "epochs2=500\n",
    "train_loss2, test_loss2 = train_model(gru,\n",
    "               loss_fun,\n",
    "               optimizer,\n",
    "               train_x2,\n",
    "               test_x2,\n",
    "               train_y2,\n",
    "               test_y2,\n",
    "               epochs=epochs2)"
   ]
  },
  {
   "cell_type": "code",
   "execution_count": null,
   "metadata": {},
   "outputs": [],
   "source": [
    "trace13 = go.Scatter(\n",
    "    x = np.arange(0, epochs1,1),\n",
    "    y = train_loss2,\n",
    "    mode = 'lines',\n",
    "    name = 'Train Loss'\n",
    ")\n",
    "trace23 = go.Scatter(\n",
    "    x = np.arange(0, epochs1,1),\n",
    "    y = test_loss2,\n",
    "    mode = 'lines',\n",
    "    name = 'Test Loss'\n",
    ")\n",
    "\n",
    "layout = go.Layout(\n",
    "    title = f\"RNN performace with GRU model\",\n",
    "    xaxis = {'title' : 'Epochs'},\n",
    "    yaxis = {'title' : 'Loss'}\n",
    ")\n",
    "fig = go.Figure(data=[trace13, trace23], layout=layout)\n",
    "fig.show()"
   ]
  },
  {
   "cell_type": "code",
   "execution_count": null,
   "metadata": {},
   "outputs": [],
   "source": [
    "# testing the prediction quality if the trained model\n",
    "\n",
    "trace33 = go.Scatter(\n",
    "    y = np.vstack((train_y2.detach().numpy(),test_y2.detach().numpy())).reshape(-1),\n",
    "    x = np.arange(0, len(y), 1),\n",
    "    mode = 'lines',\n",
    "    name = 'Target'\n",
    ")\n",
    "trace43 = go.Scatter(\n",
    "    y = np.vstack((train_y2.detach().numpy(),gru(test_x2).detach().numpy())).reshape(-1),\n",
    "    x = np.arange(0, len(y), 1),\n",
    "    mode = 'lines',\n",
    "    name = 'Prediction'\n",
    ")\n",
    "\n",
    "layout = go.Layout(\n",
    "    title = f\"Evolution of feature '{target}' with time\",\n",
    "    xaxis = {'title' : 'Time delta in days'},\n",
    "    yaxis = {'title' : f'{target}'}\n",
    ")\n",
    "fig = go.Figure(data=[trace33, trace43], layout=layout)\n",
    "fig.show()"
   ]
  },
  {
   "cell_type": "markdown",
   "metadata": {},
   "source": [
    "### Autoregressive Model"
   ]
  },
  {
   "cell_type": "code",
   "execution_count": null,
   "metadata": {},
   "outputs": [],
   "source": [
    "# convert the data from numpy to tensor\n",
    "train_x3, train_y3, test_x3, test_y3 = split_data(x, y, 0.7)\n",
    "train_x3 = torch.from_numpy(train_x3.astype(np.float32))\n",
    "train_y3 = torch.from_numpy(train_y3.astype(np.float32))\n",
    "test_x3 = torch.from_numpy(test_x3.astype(np.float32))\n",
    "test_y3 = torch.from_numpy(test_y3.astype(np.float32))"
   ]
  },
  {
   "cell_type": "code",
   "execution_count": null,
   "metadata": {},
   "outputs": [],
   "source": [
    "# Implement Autoregressive model\n",
    "auto_reg = nn.Linear(10,1)\n",
    "optimizer = torch.optim.Adam(auto_reg.parameters(), lr=0.01)\n",
    "loss_fun = nn.MSELoss()"
   ]
  },
  {
   "cell_type": "code",
   "execution_count": null,
   "metadata": {},
   "outputs": [],
   "source": [
    "epochs3=500\n",
    "train_loss3, test_loss3 = train_model(auto_reg,\n",
    "               loss_fun,\n",
    "               optimizer,\n",
    "               train_x3.reshape(-1,10),\n",
    "               test_x3.reshape(-1,10),\n",
    "               train_y3.reshape(-1,1),\n",
    "               test_y3.reshape(-1,1),\n",
    "               epochs=epochs3)"
   ]
  },
  {
   "cell_type": "code",
   "execution_count": null,
   "metadata": {},
   "outputs": [],
   "source": [
    "trace14 = go.Scatter(\n",
    "    x = np.arange(0, epochs1,1),\n",
    "    y = train_loss3,\n",
    "    mode = 'lines',\n",
    "    name = 'Train Loss'\n",
    ")\n",
    "trace24 = go.Scatter(\n",
    "    x = np.arange(0, epochs1,1),\n",
    "    y = test_loss3,\n",
    "    mode = 'lines',\n",
    "    name = 'Test Loss'\n",
    ")\n",
    "\n",
    "layout = go.Layout(\n",
    "    title = f\"RNN performace with Autorgressive model\",\n",
    "    xaxis = {'title' : 'Epochs'},\n",
    "    yaxis = {'title' : 'Loss'}\n",
    ")\n",
    "fig = go.Figure(data=[trace14, trace24], layout=layout)\n",
    "fig.show()"
   ]
  },
  {
   "cell_type": "code",
   "execution_count": null,
   "metadata": {},
   "outputs": [],
   "source": [
    "# testing the prediction quality if the trained model\n",
    "\n",
    "trace34 = go.Scatter(\n",
    "    y = np.vstack((train_y3.detach().numpy(),test_y3.detach().numpy())).reshape(-1),\n",
    "    x = np.arange(0, len(y), 1),\n",
    "    mode = 'lines',\n",
    "    name = 'Target'\n",
    ")\n",
    "trace44 = go.Scatter(\n",
    "    y = np.vstack((train_y3.detach().numpy(),auto_reg(test_x3.reshape(-1,10)).detach().numpy())).reshape(-1),\n",
    "    x = np.arange(0, len(y), 1),\n",
    "    mode = 'lines',\n",
    "    name = 'Prediction'\n",
    ")\n",
    "\n",
    "layout = go.Layout(\n",
    "    title = f\"Evolution of feature '{target}' with time\",\n",
    "    xaxis = {'title' : 'Time delta in days'},\n",
    "    yaxis = {'title' : f'{target}'}\n",
    ")\n",
    "fig = go.Figure(data=[trace34, trace44], layout=layout)\n",
    "fig.show()"
   ]
  },
  {
   "cell_type": "code",
   "execution_count": null,
   "metadata": {},
   "outputs": [],
   "source": [
    "# testing the prediction for all models\n",
    "\n",
    "trace15 = go.Scatter(\n",
    "    y = np.vstack((train_y.detach().numpy(),test_y.detach().numpy())).reshape(-1),\n",
    "    x = np.arange(0, len(y), 1),\n",
    "    mode = 'lines',\n",
    "    name = 'Target data'\n",
    ")\n",
    "trace25 = go.Scatter(\n",
    "    y = np.vstack((train_y.detach().numpy(),model(test_x).detach().numpy())).reshape(-1),\n",
    "    x = np.arange(0, len(y), 1),\n",
    "    mode = 'lines',\n",
    "    name = 'Prediction with simple RNN'\n",
    ")\n",
    "\n",
    "trace35 = go.Scatter(\n",
    "    y = np.vstack((train_y1.detach().numpy(),lstm(test_x1).detach().numpy())).reshape(-1),\n",
    "    x = np.arange(0, len(y), 1),\n",
    "    mode = 'lines',\n",
    "    name = 'Prediction with LSTM model'\n",
    "\n",
    ")\n",
    "trace45 = go.Scatter(\n",
    "    y = np.vstack((train_y2.detach().numpy(),gru(test_x2).detach().numpy())).reshape(-1),\n",
    "    x = np.arange(0, len(y), 1),\n",
    "    mode = 'lines',\n",
    "    name = 'Prediction with GRU model'\n",
    ")\n",
    "\n",
    "trace55 = go.Scatter(\n",
    "    y = np.vstack((train_y3.detach().numpy(),auto_reg(test_x3.reshape(-1,10)).detach().numpy())).reshape(-1),\n",
    "    x = np.arange(0, len(y), 1),\n",
    "    mode = 'lines',\n",
    "    name = 'Prediction with Autoregressive Model'\n",
    ")\n",
    "layout = go.Layout(\n",
    "    title = f\"Evolution of feature '{target}' with time\",\n",
    "    xaxis = {'title' : 'Time delta in days'},\n",
    "    yaxis = {'title' : f'{target}'}\n",
    ")\n",
    "fig = go.Figure(data=[trace15, trace25, trace35, trace45, trace55], layout=layout)\n",
    "fig.update_layout(\n",
    "    autosize=False,\n",
    "    width=1200,\n",
    "    height=800\n",
    "    )\n",
    "fig.update_layout(legend=dict(\n",
    "    yanchor=\"top\",\n",
    "    y=0.99,\n",
    "    xanchor=\"left\",\n",
    "    x=0.01\n",
    "))\n",
    "fig.show()"
   ]
  },
  {
   "cell_type": "code",
   "execution_count": null,
   "metadata": {},
   "outputs": [],
   "source": []
  }
 ],
 "metadata": {
  "kernelspec": {
   "display_name": "Python 3",
   "language": "python",
   "name": "python3"
  },
  "language_info": {
   "codemirror_mode": {
    "name": "ipython",
    "version": 3
   },
   "file_extension": ".py",
   "mimetype": "text/x-python",
   "name": "python",
   "nbconvert_exporter": "python",
   "pygments_lexer": "ipython3",
   "version": "3.7.8"
  }
 },
 "nbformat": 4,
 "nbformat_minor": 4
}
